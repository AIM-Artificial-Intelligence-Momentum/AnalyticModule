{
 "cells": [
  {
   "cell_type": "code",
   "execution_count": 2,
   "id": "0283b305",
   "metadata": {},
   "outputs": [
    {
     "name": "stdout",
     "output_type": "stream",
     "text": [
      "{'ground_truth.csv': {'risk_label': {'median': np.float64(2.0)}},\n",
      " 'performance_tb.csv': {'capacity': {'median': np.float64(403.0)},\n",
      "                        'duration': {'median': np.float64(31.0)},\n",
      "                        'end_date': {'mode': '2025-07-01'},\n",
      "                        'genre': {'mode': '뮤지컬'},\n",
      "                        'marketing_budget': {'median': np.float64(1194881.0)},\n",
      "                        'performance_id': {'median': np.float64(51000.5)},\n",
      "                        'performance_name': {'mode': '공연_10000'},\n",
      "                        'production_cost': {'median': np.float64(24192961.5)},\n",
      "                        'region': {'mode': '서울특별시'},\n",
      "                        'sns_mention_count': {'median': np.float64(15.0)},\n",
      "                        'star_power': {'median': np.float64(2.0)},\n",
      "                        'start_date': {'mode': '2025-06-06'},\n",
      "                        'ticket_price': {'median': np.float64(22031.0)},\n",
      "                        'variable_cost_rate': {'median': np.float64(0.11611461762707985)}},\n",
      " 'sales_tb.csv': {'accumulated_sales': {'median': np.float64(115.0)},\n",
      "                  'ad_exposure': {'median': np.float64(300054.0)},\n",
      "                  'booking_rate': {'median': np.float64(1.46)},\n",
      "                  'daily_sales': {'median': np.float64(6.0)},\n",
      "                  'date': {'mode': '2025-06-23'},\n",
      "                  'performance_id': {'median': np.float64(51000.5)},\n",
      "                  'price_avg': {'median': np.float64(22005.0)},\n",
      "                  'promo_event_flag': {'median': np.float64(0.0)},\n",
      "                  'sns_mention_daily': {'median': np.float64(20.0)}}}\n"
     ]
    }
   ],
   "source": [
    "import os\n",
    "import pandas as pd\n",
    "import pprint\n",
    "\n",
    "# 데이터가 저장된 폴더 경로\n",
    "data_dir = r\"C:\\Users\\USER\\Desktop\\my_git\\ml-analysis\\training\\data\"\n",
    "\n",
    "# 해당 폴더 내에서 .csv 파일 리스트를 생성\n",
    "csv_files = [f for f in os.listdir(data_dir) if f.endswith(\".csv\")]\n",
    "\n",
    "# 결과를 저장할 딕셔너리\n",
    "results = {}\n",
    "\n",
    "for file in csv_files:\n",
    "    file_path = os.path.join(data_dir, file)\n",
    "    try:\n",
    "        # CSV 파일 읽기\n",
    "        df = pd.read_csv(file_path)\n",
    "    except Exception as e:\n",
    "        print(f\"{file} 파일을 읽는 중 에러 발생: {e}\")\n",
    "        continue\n",
    "\n",
    "    summary = {}\n",
    "    for col in df.columns:\n",
    "        if pd.api.types.is_numeric_dtype(df[col]):\n",
    "            # 수치형 변수: 중위값 계산\n",
    "            median_val = df[col].median()\n",
    "            summary[col] = {\"median\": median_val}\n",
    "        else:\n",
    "            # 수치형이 아닌 변수: 최빈값(가장 많이 등장하는 값) 계산\n",
    "            mode_series = df[col].mode()\n",
    "            # mode()가 빈 시리즈를 반환할 수도 있음\n",
    "            mode_val = mode_series.iloc[0] if not mode_series.empty else None\n",
    "            summary[col] = {\"mode\": mode_val}\n",
    "    \n",
    "    results[file] = summary\n",
    "\n",
    "# 결과를 보기 좋게 출력\n",
    "pprint.pprint(results)\n"
   ]
  }
 ],
 "metadata": {
  "kernelspec": {
   "display_name": "ds_env",
   "language": "python",
   "name": "python3"
  },
  "language_info": {
   "codemirror_mode": {
    "name": "ipython",
    "version": 3
   },
   "file_extension": ".py",
   "mimetype": "text/x-python",
   "name": "python",
   "nbconvert_exporter": "python",
   "pygments_lexer": "ipython3",
   "version": "3.12.8"
  }
 },
 "nbformat": 4,
 "nbformat_minor": 5
}
